{
 "cells": [
  {
   "cell_type": "code",
   "execution_count": 19,
   "id": "de82db10",
   "metadata": {},
   "outputs": [
    {
     "name": "stderr",
     "output_type": "stream",
     "text": [
      "[*********************100%%**********************]  1 of 1 completed\n"
     ]
    },
    {
     "data": {
      "text/html": [
       "<div>\n",
       "<style scoped>\n",
       "    .dataframe tbody tr th:only-of-type {\n",
       "        vertical-align: middle;\n",
       "    }\n",
       "\n",
       "    .dataframe tbody tr th {\n",
       "        vertical-align: top;\n",
       "    }\n",
       "\n",
       "    .dataframe thead th {\n",
       "        text-align: right;\n",
       "    }\n",
       "</style>\n",
       "<table border=\"1\" class=\"dataframe\">\n",
       "  <thead>\n",
       "    <tr style=\"text-align: right;\">\n",
       "      <th></th>\n",
       "      <th>Open</th>\n",
       "      <th>Close</th>\n",
       "      <th>Volume</th>\n",
       "    </tr>\n",
       "    <tr>\n",
       "      <th>Date</th>\n",
       "      <th></th>\n",
       "      <th></th>\n",
       "      <th></th>\n",
       "    </tr>\n",
       "  </thead>\n",
       "  <tbody>\n",
       "    <tr>\n",
       "      <th>2006-09-11</th>\n",
       "      <td>5879.299805</td>\n",
       "      <td>5850.799805</td>\n",
       "      <td>1089823300</td>\n",
       "    </tr>\n",
       "    <tr>\n",
       "      <th>2006-09-12</th>\n",
       "      <td>5850.799805</td>\n",
       "      <td>5895.500000</td>\n",
       "      <td>1864798700</td>\n",
       "    </tr>\n",
       "    <tr>\n",
       "      <th>2006-09-13</th>\n",
       "      <td>5895.500000</td>\n",
       "      <td>5892.200195</td>\n",
       "      <td>1867392100</td>\n",
       "    </tr>\n",
       "    <tr>\n",
       "      <th>2006-09-14</th>\n",
       "      <td>5892.200195</td>\n",
       "      <td>5877.200195</td>\n",
       "      <td>1798578100</td>\n",
       "    </tr>\n",
       "    <tr>\n",
       "      <th>2006-09-15</th>\n",
       "      <td>5877.200195</td>\n",
       "      <td>5877.000000</td>\n",
       "      <td>2071064300</td>\n",
       "    </tr>\n",
       "  </tbody>\n",
       "</table>\n",
       "</div>"
      ],
      "text/plain": [
       "                   Open        Close      Volume\n",
       "Date                                            \n",
       "2006-09-11  5879.299805  5850.799805  1089823300\n",
       "2006-09-12  5850.799805  5895.500000  1864798700\n",
       "2006-09-13  5895.500000  5892.200195  1867392100\n",
       "2006-09-14  5892.200195  5877.200195  1798578100\n",
       "2006-09-15  5877.200195  5877.000000  2071064300"
      ]
     },
     "execution_count": 19,
     "metadata": {},
     "output_type": "execute_result"
    }
   ],
   "source": [
    "import yfinance as yf\n",
    "import pandas as pd\n",
    "\n",
    "# Set end date to today and start date to 20 years ago\n",
    "end_date = pd.Timestamp.today()\n",
    "start_date = end_date - pd.DateOffset(years=18)\n",
    "\n",
    "# Define the ticker symbol for the FTSE 100 Index\n",
    "ftse100_ticker = '^FTSE'\n",
    "\n",
    "# Download the data\n",
    "ftse100_data = yf.download(ftse100_ticker, start=start_date, end=end_date)\n",
    "\n",
    "# Extract the Open, Close prices, and Volume\n",
    "ftse100_open = ftse100_data['Open']\n",
    "ftse100_close = ftse100_data['Close']\n",
    "ftse100_volume = ftse100_data['Volume']\n",
    "\n",
    "# Create a DataFrame to display Open, Close, and Volume\n",
    "ftse100_summary = pd.DataFrame({\n",
    "    'Open': ftse100_open,\n",
    "    'Close': ftse100_close,\n",
    "    'Volume': ftse100_volume\n",
    "})\n",
    "\n",
    "# Display the first few rows of the data\n",
    "ftse100_summary.head()"
   ]
  },
  {
   "cell_type": "code",
   "execution_count": 20,
   "id": "eabe5d4b",
   "metadata": {},
   "outputs": [
    {
     "data": {
      "text/plain": [
       "Open      float64\n",
       "Close     float64\n",
       "Volume      int64\n",
       "dtype: object"
      ]
     },
     "execution_count": 20,
     "metadata": {},
     "output_type": "execute_result"
    }
   ],
   "source": [
    "ftse100_summary.dtypes"
   ]
  },
  {
   "cell_type": "code",
   "execution_count": 21,
   "id": "4a32f09b",
   "metadata": {},
   "outputs": [
    {
     "name": "stderr",
     "output_type": "stream",
     "text": [
      "[*********************100%%**********************]  94 of 94 completed\n"
     ]
    },
    {
     "name": "stdout",
     "output_type": "stream",
     "text": [
      "Closing Prices:\n",
      "Ticker      HLN.L        NG.L  WPP.L  FRAS.L   UU.L      SMT.L        CRH.L  \\\n",
      "Date                                                                          \n",
      "2006-09-11    NaN  616.471924  639.5     6.5  682.5  96.599998  1515.393433   \n",
      "2006-09-12    NaN  623.724487  646.5     6.5  688.0  96.000000  1515.393433   \n",
      "2006-09-13    NaN  622.757507  644.0     6.5  686.0  96.099998  1515.393433   \n",
      "2006-09-14    NaN  623.724487  640.0     6.5  696.0  97.300003  1515.393433   \n",
      "2006-09-15    NaN  628.075989  641.5     6.5  698.0  97.599998  1515.393433   \n",
      "\n",
      "Ticker           PRU.L       EZJ.L       REL.L  ...       SGE.L  FCIT.L  \\\n",
      "Date                                            ...                       \n",
      "2006-09-11  489.528107  488.726990  673.972290  ...  254.571503  259.75   \n",
      "2006-09-12  494.912109  484.363403  674.567200  ...  260.094208  259.50   \n",
      "2006-09-13  495.740387  491.999786  681.110107  ...  262.987000  260.00   \n",
      "2006-09-14  501.124390  490.363403  684.679626  ...  260.357208  259.00   \n",
      "2006-09-15  512.306519  498.272491  694.791992  ...  265.353912  261.50   \n",
      "\n",
      "Ticker      OCDO.L   IAG.L  SKG.L      LLOY.L  BATS.L   KGF.L  GLEN.L  \\\n",
      "Date                                                                    \n",
      "2006-09-11     NaN  417.75    NaN  339.107513  1470.0  236.50     NaN   \n",
      "2006-09-12     NaN  424.50    NaN  343.005310  1498.0  238.00     NaN   \n",
      "2006-09-13     NaN  427.25    NaN  341.056396  1493.0  239.75     NaN   \n",
      "2006-09-14     NaN  425.75    NaN  340.731598  1501.0  245.25     NaN   \n",
      "2006-09-15     NaN  430.75    NaN  343.979706  1502.0  243.50     NaN   \n",
      "\n",
      "Ticker           MKS.L  \n",
      "Date                    \n",
      "2006-09-11  562.032410  \n",
      "2006-09-12  565.355225  \n",
      "2006-09-13  580.070618  \n",
      "2006-09-14  581.969299  \n",
      "2006-09-15  592.412476  \n",
      "\n",
      "[5 rows x 94 columns]\n",
      "\n",
      "Volumes:\n",
      "Ticker      HLN.L      NG.L  WPP.L  FRAS.L      UU.L    SMT.L  CRH.L  \\\n",
      "Date                                                                   \n",
      "2006-09-11    NaN   6542959    0.0       0   2371837   545030    0.0   \n",
      "2006-09-12    NaN  12273370    0.0       0   3152195   569690    0.0   \n",
      "2006-09-13    NaN   8873049    0.0       0   3876527  2202045    0.0   \n",
      "2006-09-14    NaN  16614169    0.0       0  23522644   753115    0.0   \n",
      "2006-09-15    NaN  10808080    0.0       0   8496362  2054620    0.0   \n",
      "\n",
      "Ticker         PRU.L      EZJ.L      REL.L  ...       SGE.L   FCIT.L  OCDO.L  \\\n",
      "Date                                        ...                                \n",
      "2006-09-11  20874366  2450420.0  4612220.0  ...   6798363.0  2105219     NaN   \n",
      "2006-09-12  12274544  5999816.0  4093859.0  ...  11979807.0   441281     NaN   \n",
      "2006-09-13  15965219  3289635.0  5402130.0  ...   6455440.0   944475     NaN   \n",
      "2006-09-14  16349600  2786813.0  7693872.0  ...   6042985.0   655210     NaN   \n",
      "2006-09-15  26462058  2118145.0  8191429.0  ...   6773598.0  1035506     NaN   \n",
      "\n",
      "Ticker           IAG.L  SKG.L      LLOY.L      BATS.L     KGF.L  GLEN.L  \\\n",
      "Date                                                                      \n",
      "2006-09-11   5718554.0    NaN  44550866.0   4434622.0  11157130     NaN   \n",
      "2006-09-12  11107677.0    NaN  68454979.0  14822756.0  11334031     NaN   \n",
      "2006-09-13  11422185.0    NaN  39795740.0   6184354.0  13353678     NaN   \n",
      "2006-09-14  11288541.0    NaN  30668086.0   7270611.0  29143992     NaN   \n",
      "2006-09-15   8556230.0    NaN  51908301.0   9328206.0  29463074     NaN   \n",
      "\n",
      "Ticker         MKS.L  \n",
      "Date                  \n",
      "2006-09-11   5310938  \n",
      "2006-09-12   8453633  \n",
      "2006-09-13  20082674  \n",
      "2006-09-14  14103146  \n",
      "2006-09-15  10552710  \n",
      "\n",
      "[5 rows x 94 columns]\n"
     ]
    }
   ],
   "source": [
    "import yfinance as yf\n",
    "import pandas as pd\n",
    "\n",
    "# Define the symbols for the top 100 FTSE 100 companies\n",
    "top_100_symbols = [\n",
    "    'AZN.L', 'SHEL.L', 'HSBA.L', 'ULVR.L', 'RIO.L', 'BP.L', \n",
    "    'REL.L', 'GSK.L', 'GLEN.L', 'DGE.L', 'BATS.L', 'LSEG.L', \n",
    "    'NG.L', 'RR.L', 'BA.L', 'CPG.L', 'LLOY.L', 'EXPN.L', 'BARC.L', 'FLTR.L',\n",
    "    'AHT.L', 'ANTO.L', 'BT-A.L', 'ABF.L', 'SGE.L', 'SVT.L', \n",
    "    'SMT.L', 'SSE.L', 'STAN.L', 'PSN.L', 'ITV.L', 'CCH.L', 'MNDI.L', 'NXT.L',\n",
    "    'PHNX.L', 'VOD.L', 'WTB.L', 'OCDO.L', 'III.L', 'CRH.L', 'LAND.L', 'IMB.L', \n",
    "    'IHG.L', 'RKT.L', 'RMV.L', 'SKG.L', 'TSCO.L', 'TW.L', 'UU.L', 'WPP.L',\n",
    "    'SN.L', 'BNZL.L', 'HLN.L', 'HLMA.L', 'AV.L', 'PRU.L', 'ADM.L', 'IAG.L', \n",
    "    'RTO.L', 'AUTO.L', 'INF.L', 'SPX.L', 'PSON.L', 'DGE.L', 'SGRO.L', 'FRES.L', \n",
    "    'SMDS.L', 'KGF.L', 'JD.L', 'MKS.L', 'ITRK.L', 'SMIN.L', 'HWDN.L', 'EZJ.L',\n",
    "    'AAL.L', 'BEZ.L', 'BDEV.L', 'BME.L', 'FRAS.L', 'DARK.L', 'ICG.L', 'CRDA.L', \n",
    "    'PSH.L', 'HL.L', 'MNG.L', 'TSCO.L', 'UTG.L', 'SBRY.L', 'SGE.L', \n",
    "    'FCIT.L', 'LMP.L', 'DPLM.L', 'HIK.L', 'WEIR.L', 'MRO.L', 'ADM.L', 'DCC.L', \n",
    "    'VOD.L', 'SMIN.L', 'SSE.L', 'MRO.L', 'CNA.L'\n",
    "]\n",
    "\n",
    "# Remove any unavailable tickers like 'FCHI.L'\n",
    "top_100_symbols = [ticker for ticker in top_100_symbols if ticker != 'FCHI.L']\n",
    "\n",
    "# Fetch historical data for the last 10 years\n",
    "end_date = pd.Timestamp.today()\n",
    "start_date = end_date - pd.DateOffset(years=18)\n",
    "\n",
    "# Download the data\n",
    "data = yf.download(top_100_symbols, start=start_date, end=end_date, group_by='ticker')\n",
    "\n",
    "# Extract the 'Close' and 'Volume' columns for all tickers\n",
    "close_data = data.xs('Close', level=1, axis=1)\n",
    "volume_data = data.xs('Volume', level=1, axis=1)\n",
    "\n",
    "# Display the first few rows of the 'Close' and 'Volume' data\n",
    "print(\"Closing Prices:\")\n",
    "print(close_data.head())\n",
    "\n",
    "print(\"\\nVolumes:\")\n",
    "print(volume_data.head())\n"
   ]
  },
  {
   "cell_type": "code",
   "execution_count": 22,
   "id": "c7c21412",
   "metadata": {},
   "outputs": [
    {
     "name": "stdout",
     "output_type": "stream",
     "text": [
      "Closing Prices:\n",
      "Ticker\n",
      "HLN.L     float64\n",
      "NG.L      float64\n",
      "WPP.L     float64\n",
      "FRAS.L    float64\n",
      "UU.L      float64\n",
      "           ...   \n",
      "LLOY.L    float64\n",
      "BATS.L    float64\n",
      "KGF.L     float64\n",
      "GLEN.L    float64\n",
      "MKS.L     float64\n",
      "Length: 94, dtype: object\n",
      "\n",
      "Volumes:\n",
      "Ticker\n",
      "HLN.L     float64\n",
      "NG.L        int64\n",
      "WPP.L     float64\n",
      "FRAS.L      int64\n",
      "UU.L        int64\n",
      "           ...   \n",
      "LLOY.L    float64\n",
      "BATS.L    float64\n",
      "KGF.L       int64\n",
      "GLEN.L    float64\n",
      "MKS.L       int64\n",
      "Length: 94, dtype: object\n"
     ]
    }
   ],
   "source": [
    "print(\"Closing Prices:\")\n",
    "print(close_data.dtypes)\n",
    "\n",
    "print(\"\\nVolumes:\")\n",
    "print(volume_data.dtypes)"
   ]
  },
  {
   "cell_type": "markdown",
   "id": "6133ff53",
   "metadata": {},
   "source": [
    "## Check For missing Data"
   ]
  },
  {
   "cell_type": "code",
   "execution_count": 23,
   "id": "59fb14bf",
   "metadata": {},
   "outputs": [
    {
     "data": {
      "text/plain": [
       "Open      0\n",
       "Close     0\n",
       "Volume    0\n",
       "dtype: int64"
      ]
     },
     "execution_count": 23,
     "metadata": {},
     "output_type": "execute_result"
    }
   ],
   "source": [
    "ftse100_summary.isnull().sum()"
   ]
  },
  {
   "cell_type": "code",
   "execution_count": null,
   "id": "9f2cb016",
   "metadata": {},
   "outputs": [],
   "source": []
  },
  {
   "cell_type": "code",
   "execution_count": 24,
   "id": "1743b52e",
   "metadata": {},
   "outputs": [
    {
     "data": {
      "text/plain": [
       "Ticker\n",
       "HLN.L     4005\n",
       "NG.L         0\n",
       "WPP.L        2\n",
       "FRAS.L       0\n",
       "UU.L         0\n",
       "          ... \n",
       "LLOY.L       2\n",
       "BATS.L       1\n",
       "KGF.L        0\n",
       "GLEN.L    1191\n",
       "MKS.L        0\n",
       "Length: 94, dtype: int64"
      ]
     },
     "execution_count": 24,
     "metadata": {},
     "output_type": "execute_result"
    }
   ],
   "source": [
    "close_data.isnull().sum()"
   ]
  },
  {
   "cell_type": "code",
   "execution_count": 25,
   "id": "4a4b21db",
   "metadata": {},
   "outputs": [
    {
     "data": {
      "text/plain": [
       "Ticker\n",
       "HLN.L     4005\n",
       "NG.L         0\n",
       "WPP.L        2\n",
       "FRAS.L       0\n",
       "UU.L         0\n",
       "          ... \n",
       "LLOY.L       2\n",
       "BATS.L       1\n",
       "KGF.L        0\n",
       "GLEN.L    1191\n",
       "MKS.L        0\n",
       "Length: 94, dtype: int64"
      ]
     },
     "execution_count": 25,
     "metadata": {},
     "output_type": "execute_result"
    }
   ],
   "source": [
    "volume_data.isnull().sum()"
   ]
  },
  {
   "cell_type": "markdown",
   "id": "691847ca",
   "metadata": {},
   "source": [
    "## fill missing value with Mean"
   ]
  },
  {
   "cell_type": "code",
   "execution_count": 26,
   "id": "0f24e093",
   "metadata": {},
   "outputs": [],
   "source": [
    "# Fill missing values (NaN) with the mean for each column\n",
    "close_data = close_data.fillna(close_data.mean())\n",
    "volume_data = volume_data.fillna(volume_data.mean())"
   ]
  },
  {
   "cell_type": "code",
   "execution_count": 27,
   "id": "3db11854",
   "metadata": {},
   "outputs": [
    {
     "data": {
      "text/plain": [
       "Ticker\n",
       "HLN.L     0\n",
       "NG.L      0\n",
       "WPP.L     0\n",
       "FRAS.L    0\n",
       "UU.L      0\n",
       "         ..\n",
       "LLOY.L    0\n",
       "BATS.L    0\n",
       "KGF.L     0\n",
       "GLEN.L    0\n",
       "MKS.L     0\n",
       "Length: 94, dtype: int64"
      ]
     },
     "execution_count": 27,
     "metadata": {},
     "output_type": "execute_result"
    }
   ],
   "source": [
    "close_data.isnull().sum()"
   ]
  },
  {
   "cell_type": "code",
   "execution_count": 28,
   "id": "9ade1048",
   "metadata": {},
   "outputs": [
    {
     "data": {
      "text/plain": [
       "Ticker\n",
       "HLN.L     0\n",
       "NG.L      0\n",
       "WPP.L     0\n",
       "FRAS.L    0\n",
       "UU.L      0\n",
       "         ..\n",
       "LLOY.L    0\n",
       "BATS.L    0\n",
       "KGF.L     0\n",
       "GLEN.L    0\n",
       "MKS.L     0\n",
       "Length: 94, dtype: int64"
      ]
     },
     "execution_count": 28,
     "metadata": {},
     "output_type": "execute_result"
    }
   ],
   "source": [
    "volume_data.isnull().sum()"
   ]
  },
  {
   "cell_type": "markdown",
   "id": "afce1a63",
   "metadata": {},
   "source": [
    "## Returns for both Individual Stocks and overall Market Index"
   ]
  },
  {
   "cell_type": "code",
   "execution_count": 29,
   "id": "f553feb0",
   "metadata": {},
   "outputs": [
    {
     "name": "stdout",
     "output_type": "stream",
     "text": [
      "                   Open        Close      Volume  Log_Returns\n",
      "Date                                                         \n",
      "2006-09-11  5879.299805  5850.799805  1089823300          NaN\n",
      "2006-09-12  5850.799805  5895.500000  1864798700     0.007611\n",
      "2006-09-13  5895.500000  5892.200195  1867392100    -0.000560\n",
      "2006-09-14  5892.200195  5877.200195  1798578100    -0.002549\n",
      "2006-09-15  5877.200195  5877.000000  2071064300    -0.000034\n",
      "count    4544.000000\n",
      "mean        0.000076\n",
      "std         0.011475\n",
      "min        -0.115117\n",
      "25%        -0.004866\n",
      "50%         0.000491\n",
      "75%         0.005597\n",
      "max         0.093842\n",
      "Name: Log_Returns, dtype: float64\n"
     ]
    }
   ],
   "source": [
    "#Market Index\n",
    "\n",
    "import pandas as pd\n",
    "import numpy as np\n",
    "\n",
    "# Assuming ftse100_summary is your DataFrame with columns 'Open', 'Close', and 'Volume'\n",
    "# Calculate logarithmic returns using the shift method for previous day's close\n",
    "\n",
    "ftse100_summary['Log_Returns'] = np.log(ftse100_summary['Close'] / ftse100_summary['Close'].shift(1))\n",
    "\n",
    "# Display the first few rows of the DataFrame to check the new 'Log_Returns' column\n",
    "print (ftse100_summary.head())\n",
    "print(ftse100_summary['Log_Returns'].describe())"
   ]
  },
  {
   "cell_type": "code",
   "execution_count": 30,
   "id": "e556a9be",
   "metadata": {},
   "outputs": [
    {
     "data": {
      "image/png": "[encoded data removed]",
      "text/plain": [
       "<Figure size 1200x600 with 1 Axes>"
      ]
     },
     "metadata": {},
     "output_type": "display_data"
    }
   ],
   "source": [
    "import pandas as pd\n",
    "import numpy as np\n",
    "import matplotlib.pyplot as plt\n",
    "\n",
    "# Assuming 'ftse100_summary' is your DataFrame with columns 'Open', 'Close', and 'Volume'\n",
    "# Calculate logarithmic returns using the shift method for the previous day's close\n",
    "ftse100_summary['Log_Returns'] = np.log(ftse100_summary['Close'] / ftse100_summary['Close'].shift(1))\n",
    "\n",
    "# Plotting the logarithmic returns\n",
    "plt.figure(figsize=(12, 6))\n",
    "plt.plot(ftse100_summary['Log_Returns'], label='Daily Logarithmic Returns')\n",
    "plt.title('Time Series Plot of Daily Logarithmic Returns for the FTSE 100 Index')\n",
    "plt.xlabel('Date')\n",
    "plt.ylabel('Logarithmic Returns')\n",
    "plt.legend()\n",
    "plt.show()\n"
   ]
  },
  {
   "cell_type": "code",
   "execution_count": null,
   "id": "a2b29e55",
   "metadata": {},
   "outputs": [],
   "source": []
  },
  {
   "cell_type": "code",
   "execution_count": null,
   "id": "e1f201f8",
   "metadata": {},
   "outputs": [],
   "source": []
  },
  {
   "cell_type": "code",
   "execution_count": 31,
   "id": "4b9ba5f2",
   "metadata": {},
   "outputs": [
    {
     "name": "stdout",
     "output_type": "stream",
     "text": [
      "Logarithmic Returns for Each Stock:\n",
      "Ticker      HLN.L      NG.L     WPP.L  FRAS.L      UU.L     SMT.L  CRH.L  \\\n",
      "Date                                                                       \n",
      "2006-09-11    NaN       NaN       NaN     NaN       NaN       NaN    NaN   \n",
      "2006-09-12    0.0  0.011696  0.010887     0.0  0.008026 -0.006231    0.0   \n",
      "2006-09-13    0.0 -0.001552 -0.003874     0.0 -0.002911  0.001041    0.0   \n",
      "2006-09-14    0.0  0.001552 -0.006231     0.0  0.014472  0.012410    0.0   \n",
      "2006-09-15    0.0  0.006952  0.002341     0.0  0.002869  0.003078    0.0   \n",
      "\n",
      "Ticker         PRU.L     EZJ.L     REL.L  ...     SGE.L    FCIT.L  OCDO.L  \\\n",
      "Date                                      ...                               \n",
      "2006-09-11       NaN       NaN       NaN  ...       NaN       NaN     NaN   \n",
      "2006-09-12  0.010938 -0.008969  0.000882  ...  0.021462 -0.000963     0.0   \n",
      "2006-09-13  0.001672  0.015643  0.009653  ...  0.011061  0.001925     0.0   \n",
      "2006-09-14  0.010802 -0.003332  0.005227  ... -0.010050 -0.003854     0.0   \n",
      "2006-09-15  0.022069  0.016000  0.014661  ...  0.019010  0.009606     0.0   \n",
      "\n",
      "Ticker         IAG.L  SKG.L    LLOY.L    BATS.L     KGF.L  GLEN.L     MKS.L  \n",
      "Date                                                                         \n",
      "2006-09-11       NaN    NaN       NaN       NaN       NaN     NaN       NaN  \n",
      "2006-09-12  0.016029    0.0  0.011429  0.018868  0.006322     0.0  0.005895  \n",
      "2006-09-13  0.006457    0.0 -0.005698 -0.003343  0.007326     0.0  0.025696  \n",
      "2006-09-14 -0.003517    0.0 -0.000953  0.005344  0.022681     0.0  0.003268  \n",
      "2006-09-15  0.011676    0.0  0.009488  0.000666 -0.007161     0.0  0.017785  \n",
      "\n",
      "[5 rows x 94 columns]\n"
     ]
    }
   ],
   "source": [
    "#Individual stocks\n",
    "import pandas as pd\n",
    "import numpy as np\n",
    "\n",
    "# Assuming 'close_data' is your DataFrame containing the closing prices of the stocks\n",
    "# Calculate the logarithmic returns for each stock\n",
    "\n",
    "close_data_log_returns = np.log(close_data / close_data.shift(1))\n",
    "\n",
    "# To display the first few rows of the DataFrame with the calculated log returns\n",
    "print(\"Logarithmic Returns for Each Stock:\")\n",
    "print(close_data_log_returns.head())"
   ]
  },
  {
   "cell_type": "code",
   "execution_count": 32,
   "id": "35d9a1bd",
   "metadata": {},
   "outputs": [
    {
     "name": "stdout",
     "output_type": "stream",
     "text": [
      "Top 5 Stocks by Mean Returns:\n",
      "         count      mean       std       min       25%       50%       75%  \\\n",
      "Ticker                                                                       \n",
      "FRAS.L  4546.0  0.001067  0.061766 -0.256591 -0.010505  0.000000  0.011711   \n",
      "JD.L    4546.0  0.000827  0.024869 -0.261336 -0.010549  0.000000  0.012463   \n",
      "AHT.L   4546.0  0.000813  0.026462 -0.265318 -0.012086  0.000869  0.014229   \n",
      "DPLM.L  4546.0  0.000749  0.020443 -0.124097 -0.009195  0.000000  0.010446   \n",
      "RMV.L   4546.0  0.000661  0.023638 -0.489152 -0.008529  0.000518  0.010289   \n",
      "\n",
      "             max  \n",
      "Ticker            \n",
      "FRAS.L  3.766552  \n",
      "JD.L    0.231678  \n",
      "AHT.L   0.187893  \n",
      "DPLM.L  0.238570  \n",
      "RMV.L   0.498188  \n",
      "\n",
      "Bottom 5 Stocks by Mean Returns:\n",
      "         count      mean       std       min       25%       50%       75%  \\\n",
      "Ticker                                                                       \n",
      "IAG.L   4546.0 -0.000172  0.050818 -0.943469 -0.014128  0.000000  0.014370   \n",
      "CNA.L   4546.0 -0.000179  0.018993 -0.210726 -0.008958  0.000379  0.009094   \n",
      "LAND.L  4546.0 -0.000221  0.018649 -0.168966 -0.009264  0.000000  0.008886   \n",
      "BARC.L  4546.0 -0.000222  0.030971 -0.394835 -0.012078 -0.000058  0.011675   \n",
      "LLOY.L  4546.0 -0.000391  0.034831 -0.590225 -0.010595 -0.000157  0.010501   \n",
      "\n",
      "             max  \n",
      "Ticker            \n",
      "IAG.L   0.913026  \n",
      "CNA.L   0.155035  \n",
      "LAND.L  0.187308  \n",
      "BARC.L  0.549520  \n",
      "LLOY.L  0.568772  \n"
     ]
    }
   ],
   "source": [
    "import pandas as pd\n",
    "import numpy as np\n",
    "\n",
    "# Assuming 'close_data' is your DataFrame containing the closing prices of the stocks\n",
    "# Calculate the logarithmic returns for each stock\n",
    "close_data_log_returns = np.log(close_data / close_data.shift(1))\n",
    "\n",
    "# Calculate descriptive statistics for each stock\n",
    "desc_stats = close_data_log_returns.describe().transpose()\n",
    "\n",
    "# Sort the stocks by the mean returns\n",
    "sorted_by_mean = desc_stats.sort_values(by='mean', ascending=False)\n",
    "\n",
    "# Select the top 5 and bottom 5 stocks\n",
    "top_5_stocks = sorted_by_mean.head(5)\n",
    "bottom_5_stocks = sorted_by_mean.tail(5)\n",
    "\n",
    "# Print the results\n",
    "print(\"Top 5 Stocks by Mean Returns:\")\n",
    "print(top_5_stocks)\n",
    "print(\"\\nBottom 5 Stocks by Mean Returns:\")\n",
    "print(bottom_5_stocks)\n"
   ]
  },
  {
   "cell_type": "markdown",
   "id": "87033341",
   "metadata": {},
   "source": [
    "## CSSD"
   ]
  },
  {
   "cell_type": "code",
   "execution_count": 42,
   "id": "a9325330",
   "metadata": {},
   "outputs": [
    {
     "name": "stdout",
     "output_type": "stream",
     "text": [
      "Number of NaN values in CSSD: 3\n",
      "Date\n",
      "2006-09-11         NaN\n",
      "2006-09-12    0.012578\n",
      "2006-09-13    0.014821\n",
      "2006-09-14    0.011081\n",
      "2006-09-15    0.013955\n",
      "dtype: float64\n",
      "Imputed CSSD values:\n",
      "Date\n",
      "2006-09-11    0.016948\n",
      "2006-09-12    0.012578\n",
      "2006-09-13    0.014821\n",
      "2006-09-14    0.011081\n",
      "2006-09-15    0.013955\n",
      "dtype: float64\n",
      "count    4547.000000\n",
      "mean        0.016948\n",
      "std         0.012434\n",
      "min         0.004888\n",
      "25%         0.011594\n",
      "50%         0.014050\n",
      "75%         0.017905\n",
      "max         0.391201\n",
      "dtype: float64\n"
     ]
    }
   ],
   "source": [
    "import pandas as pd\n",
    "import numpy as np\n",
    "\n",
    "# Assuming 'ftse100_summary' DataFrame contains the 'Log_Returns' for the index\n",
    "index_log_returns = ftse100_summary['Log_Returns']\n",
    "\n",
    "# Assuming 'close_data_log_returns' DataFrame contains the logarithmic returns for each stock\n",
    "# Calculate the difference between each stock's returns and the index returns\n",
    "difference = close_data_log_returns.subtract(index_log_returns, axis=0)\n",
    "\n",
    "# Calculate the standard deviation of these differences across all stocks for each day (CSSD)\n",
    "cssd = difference.std(axis=1)\n",
    "\n",
    "# Now, you can check for NaN values in 'cssd'\n",
    "nan_count_cssd = cssd.isna().sum()\n",
    "print(f\"Number of NaN values in CSSD: {nan_count_cssd}\")\n",
    "print (cssd.head())\n",
    "# Impute NaN values with the mean of the CSSD values\n",
    "cssd = cssd.fillna(cssd.mean())\n",
    "\n",
    "# Print the imputed CSSD values to verify\n",
    "print(\"Imputed CSSD values:\")\n",
    "print(cssd.head())\n",
    "print (cssd.describe())"
   ]
  },
  {
   "cell_type": "markdown",
   "id": "59159b6e",
   "metadata": {},
   "source": [
    "## RMp (Market return when positive) for rising markets and RMn (Market return when negative) for falling markets"
   ]
  },
  {
   "cell_type": "code",
   "execution_count": 34,
   "id": "97575728",
   "metadata": {},
   "outputs": [
    {
     "name": "stdout",
     "output_type": "stream",
     "text": [
      "Number of NaN values in CSSD: 3\n",
      "Date\n",
      "2006-09-11         NaN\n",
      "2006-09-12    0.012578\n",
      "2006-09-13    0.014821\n",
      "2006-09-14    0.011081\n",
      "2006-09-15    0.013955\n",
      "dtype: float64\n",
      "Imputed CSSD values:\n",
      "Date\n",
      "2006-09-11    0.016948\n",
      "2006-09-12    0.012578\n",
      "2006-09-13    0.014821\n",
      "2006-09-14    0.011081\n",
      "2006-09-15    0.013955\n",
      "dtype: float64\n",
      "RMp (Market return when positive):\n",
      "            Log_Returns       RMp\n",
      "Date                             \n",
      "2006-09-11          NaN  0.000000\n",
      "2006-09-12     0.007611  0.007611\n",
      "2006-09-13    -0.000560  0.000000\n",
      "2006-09-14    -0.002549  0.000000\n",
      "2006-09-15    -0.000034  0.000000\n",
      "RMn (Market return when negative):\n",
      "            Log_Returns       RMn\n",
      "Date                             \n",
      "2006-09-11          NaN  0.000000\n",
      "2006-09-12     0.007611  0.000000\n",
      "2006-09-13    -0.000560 -0.000560\n",
      "2006-09-14    -0.002549 -0.002549\n",
      "2006-09-15    -0.000034 -0.000034\n",
      "Summary of RMp (positive returns) and RMn (negative returns):\n",
      "               RMp          RMn\n",
      "count  4545.000000  4545.000000\n",
      "mean      0.003886    -0.003810\n",
      "std       0.006813     0.007456\n",
      "min       0.000000    -0.115117\n",
      "25%       0.000000    -0.004865\n",
      "50%       0.000491     0.000000\n",
      "75%       0.005595     0.000000\n",
      "max       0.093842     0.000000\n"
     ]
    }
   ],
   "source": [
    "import pandas as pd\n",
    "import numpy as np\n",
    "\n",
    "# Assuming 'ftse100_summary' DataFrame contains the 'Log_Returns' for the index\n",
    "index_log_returns = ftse100_summary['Log_Returns']\n",
    "\n",
    "# Assuming 'close_data_log_returns' DataFrame contains the logarithmic returns for each stock\n",
    "# Calculate the difference between each stock's returns and the index returns\n",
    "difference = close_data_log_returns.subtract(index_log_returns, axis=0)\n",
    "\n",
    "# Calculate the standard deviation of these differences across all stocks for each day (CSSD)\n",
    "cssd = difference.std(axis=1)\n",
    "\n",
    "# Now, you can check for NaN values in 'cssd'\n",
    "nan_count_cssd = cssd.isna().sum()\n",
    "print(f\"Number of NaN values in CSSD: {nan_count_cssd}\")\n",
    "print(cssd.head())\n",
    "\n",
    "# Impute NaN values with the mean of the CSSD values\n",
    "cssd = cssd.fillna(cssd.mean())\n",
    "\n",
    "# Print the imputed CSSD values to verify\n",
    "print(\"Imputed CSSD values:\")\n",
    "print(cssd.head())\n",
    "\n",
    "# Calculate RMp (Market return when positive) for rising markets\n",
    "ftse100_summary['RMp'] = np.where(ftse100_summary['Log_Returns'] > 0, ftse100_summary['Log_Returns'], 0)\n",
    "\n",
    "# Calculate RMn (Market return when negative) for falling markets\n",
    "ftse100_summary['RMn'] = np.where(ftse100_summary['Log_Returns'] < 0, ftse100_summary['Log_Returns'], 0)\n",
    "\n",
    "# Display the calculated RMp and RMn values to verify\n",
    "print(\"RMp (Market return when positive):\")\n",
    "print(ftse100_summary[['Log_Returns', 'RMp']].head())\n",
    "\n",
    "print(\"RMn (Market return when negative):\")\n",
    "print(ftse100_summary[['Log_Returns', 'RMn']].head())\n",
    "\n",
    "# Optional: Check if RMp and RMn are correctly calculated\n",
    "print(\"Summary of RMp (positive returns) and RMn (negative returns):\")\n",
    "print(ftse100_summary[['RMp', 'RMn']].describe())\n"
   ]
  },
  {
   "cell_type": "markdown",
   "id": "13ad7a2d",
   "metadata": {},
   "source": [
    "## regression model for daily data"
   ]
  },
  {
   "cell_type": "code",
   "execution_count": 35,
   "id": "4f48750e",
   "metadata": {},
   "outputs": [
    {
     "name": "stdout",
     "output_type": "stream",
     "text": [
      "Regression Results for Daily Data:\n",
      "                            OLS Regression Results                            \n",
      "==============================================================================\n",
      "Dep. Variable:                      y   R-squared:                       0.095\n",
      "Model:                            OLS   Adj. R-squared:                  0.095\n",
      "Method:                 Least Squares   F-statistic:                     239.5\n",
      "Date:                Mon, 09 Sep 2024   Prob (F-statistic):           1.26e-99\n",
      "Time:                        16:59:56   Log-Likelihood:                 13719.\n",
      "No. Observations:                4545   AIC:                        -2.743e+04\n",
      "Df Residuals:                    4542   BIC:                        -2.741e+04\n",
      "Df Model:                           2                                         \n",
      "Covariance Type:            nonrobust                                         \n",
      "==============================================================================\n",
      "                 coef    std err          t      P>|t|      [0.025      0.975]\n",
      "------------------------------------------------------------------------------\n",
      "const          0.0135      0.000     56.778      0.000       0.013       0.014\n",
      "RMp            0.4560      0.027     16.933      0.000       0.403       0.509\n",
      "RMn           -0.4480      0.025    -18.203      0.000      -0.496      -0.400\n",
      "==============================================================================\n",
      "Omnibus:                     7586.939   Durbin-Watson:                   1.324\n",
      "Prob(Omnibus):                  0.000   Jarque-Bera (JB):         11299585.857\n",
      "Skew:                          10.914   Prob(JB):                         0.00\n",
      "Kurtosis:                     246.293   Cond. No.                         168.\n",
      "==============================================================================\n",
      "\n",
      "Notes:\n",
      "[1] Standard Errors assume that the covariance matrix of the errors is correctly specified.\n"
     ]
    }
   ],
   "source": [
    "import statsmodels.api as sm\n",
    "import pandas as pd\n",
    "import numpy as np\n",
    "\n",
    "# Ensure that ftse100_summary has the columns 'CSSD', 'RMp', and 'RMn'\n",
    "# 'cssd' is the already calculated CSSD for each day\n",
    "\n",
    "# Step 1: Align the indices of ftse100_summary and cssd\n",
    "X_daily, y_daily = ftse100_summary[['RMp', 'RMn']].align(cssd, join='inner', axis=0)\n",
    "\n",
    "# Step 2: Add a constant to the model for the intercept\n",
    "X_daily = sm.add_constant(X_daily)\n",
    "\n",
    "# Step 3: Run the OLS regression for daily data\n",
    "model_daily = sm.OLS(y_daily, X_daily).fit()\n",
    "\n",
    "# Step 4: Print the summary of the regression model for daily data\n",
    "print(\"Regression Results for Daily Data:\")\n",
    "print(model_daily.summary())\n"
   ]
  },
  {
   "cell_type": "markdown",
   "id": "e1d7b5d3",
   "metadata": {},
   "source": [
    "## regression model for weekly data and regression model for monthly data"
   ]
  },
  {
   "cell_type": "code",
   "execution_count": 36,
   "id": "db440fe3",
   "metadata": {},
   "outputs": [
    {
     "name": "stdout",
     "output_type": "stream",
     "text": [
      "Regression Results for Weekly Data:\n",
      "                            OLS Regression Results                            \n",
      "==============================================================================\n",
      "Dep. Variable:                      y   R-squared:                       0.221\n",
      "Model:                            OLS   Adj. R-squared:                  0.220\n",
      "Method:                 Least Squares   F-statistic:                     133.2\n",
      "Date:                Mon, 09 Sep 2024   Prob (F-statistic):           1.20e-51\n",
      "Time:                        17:00:06   Log-Likelihood:                 3234.3\n",
      "No. Observations:                 940   AIC:                            -6463.\n",
      "Df Residuals:                     937   BIC:                            -6448.\n",
      "Df Model:                           2                                         \n",
      "Covariance Type:            nonrobust                                         \n",
      "==============================================================================\n",
      "                 coef    std err          t      P>|t|      [0.025      0.975]\n",
      "------------------------------------------------------------------------------\n",
      "const          0.0113      0.000     26.187      0.000       0.010       0.012\n",
      "RMp            0.8153      0.074     11.029      0.000       0.670       0.960\n",
      "RMn           -0.6589      0.062    -10.686      0.000      -0.780      -0.538\n",
      "==============================================================================\n",
      "Omnibus:                      932.901   Durbin-Watson:                   1.444\n",
      "Prob(Omnibus):                  0.000   Jarque-Bera (JB):            47325.337\n",
      "Skew:                           4.599   Prob(JB):                         0.00\n",
      "Kurtosis:                      36.522   Cond. No.                         296.\n",
      "==============================================================================\n",
      "\n",
      "Notes:\n",
      "[1] Standard Errors assume that the covariance matrix of the errors is correctly specified.\n",
      "Regression Results for Monthly Data:\n",
      "                            OLS Regression Results                            \n",
      "==============================================================================\n",
      "Dep. Variable:                      y   R-squared:                       0.449\n",
      "Model:                            OLS   Adj. R-squared:                  0.444\n",
      "Method:                 Least Squares   F-statistic:                     87.16\n",
      "Date:                Mon, 09 Sep 2024   Prob (F-statistic):           2.05e-28\n",
      "Time:                        17:00:06   Log-Likelihood:                 854.18\n",
      "No. Observations:                 217   AIC:                            -1702.\n",
      "Df Residuals:                     214   BIC:                            -1692.\n",
      "Df Model:                           2                                         \n",
      "Covariance Type:            nonrobust                                         \n",
      "==============================================================================\n",
      "                 coef    std err          t      P>|t|      [0.025      0.975]\n",
      "------------------------------------------------------------------------------\n",
      "const          0.0097      0.001     14.203      0.000       0.008       0.011\n",
      "RMp            1.1483      0.236      4.856      0.000       0.682       1.614\n",
      "RMn           -0.7614      0.176     -4.326      0.000      -1.108      -0.414\n",
      "==============================================================================\n",
      "Omnibus:                       97.061   Durbin-Watson:                   1.021\n",
      "Prob(Omnibus):                  0.000   Jarque-Bera (JB):              348.913\n",
      "Skew:                           1.869   Prob(JB):                     1.72e-76\n",
      "Kurtosis:                       7.962   Cond. No.                         862.\n",
      "==============================================================================\n",
      "\n",
      "Notes:\n",
      "[1] Standard Errors assume that the covariance matrix of the errors is correctly specified.\n"
     ]
    },
    {
     "name": "stderr",
     "output_type": "stream",
     "text": [
      "C:\\Users\\PC\\AppData\\Local\\Temp\\ipykernel_15128\\982154252.py:14: FutureWarning: 'M' is deprecated and will be removed in a future version, please use 'ME' instead.\n",
      "  ftse100_summary_monthly = ftse100_summary.resample('M').mean()\n",
      "C:\\Users\\PC\\AppData\\Local\\Temp\\ipykernel_15128\\982154252.py:15: FutureWarning: 'M' is deprecated and will be removed in a future version, please use 'ME' instead.\n",
      "  cssd_monthly = cssd.resample('M').mean()\n"
     ]
    }
   ],
   "source": [
    "import statsmodels.api as sm\n",
    "import pandas as pd\n",
    "\n",
    "# Assuming 'ftse100_summary' contains daily data with 'RMp', 'RMn', and CSSD\n",
    "\n",
    "# Step 1: Resample the data to weekly and monthly frequencies\n",
    "# For weekly data, we use 'W' for resampling and for monthly data 'M'\n",
    "\n",
    "# Resample to weekly using the mean\n",
    "ftse100_summary_weekly = ftse100_summary.resample('W').mean()\n",
    "cssd_weekly = cssd.resample('W').mean()\n",
    "\n",
    "# Resample to monthly using the mean\n",
    "ftse100_summary_monthly = ftse100_summary.resample('M').mean()\n",
    "cssd_monthly = cssd.resample('M').mean()\n",
    "\n",
    "# Step 2: Align the indices of ftse100_summary and cssd for weekly data\n",
    "X_weekly, y_weekly = ftse100_summary_weekly[['RMp', 'RMn']].align(cssd_weekly, join='inner', axis=0)\n",
    "\n",
    "# Add a constant to the model for the intercept\n",
    "X_weekly = sm.add_constant(X_weekly)\n",
    "\n",
    "# Step 3: Run the OLS regression for weekly data\n",
    "model_weekly = sm.OLS(y_weekly, X_weekly).fit()\n",
    "\n",
    "# Print the summary of the regression model for weekly data\n",
    "print(\"Regression Results for Weekly Data:\")\n",
    "print(model_weekly.summary())\n",
    "\n",
    "# Step 4: Align the indices of ftse100_summary and cssd for monthly data\n",
    "X_monthly, y_monthly = ftse100_summary_monthly[['RMp', 'RMn']].align(cssd_monthly, join='inner', axis=0)\n",
    "\n",
    "# Add a constant to the model for the intercept\n",
    "X_monthly = sm.add_constant(X_monthly)\n",
    "\n",
    "# Step 5: Run the OLS regression for monthly data\n",
    "model_monthly = sm.OLS(y_monthly, X_monthly).fit()\n",
    "\n",
    "# Print the summary of the regression model for monthly data\n",
    "print(\"Regression Results for Monthly Data:\")\n",
    "print(model_monthly.summary())\n"
   ]
  },
  {
   "cell_type": "code",
   "execution_count": null,
   "id": "8da4e6f0",
   "metadata": {},
   "outputs": [],
   "source": []
  },
  {
   "cell_type": "code",
   "execution_count": 37,
   "id": "e1a24c1b",
   "metadata": {},
   "outputs": [
    {
     "name": "stdout",
     "output_type": "stream",
     "text": [
      "            Log_Returns  Rolling_Std Volatility_Type\n",
      "Date                                                \n",
      "2006-09-11          NaN          NaN             Low\n",
      "2006-09-12     0.007611          NaN             Low\n",
      "2006-09-13    -0.000560          NaN             Low\n",
      "2006-09-14    -0.002549          NaN             Low\n",
      "2006-09-15    -0.000034          NaN             Low\n",
      "\n",
      "Volatility Type Counts:\n",
      "Volatility_Type\n",
      "Low     3414\n",
      "High    1131\n",
      "Name: count, dtype: int64\n"
     ]
    }
   ],
   "source": [
    "import numpy as np\n",
    "\n",
    "# Calculate the rolling 21-day standard deviation of daily log returns\n",
    "ftse100_summary['Rolling_Std'] = ftse100_summary['Log_Returns'].rolling(window=21).std()\n",
    "\n",
    "# Determine the threshold for high volatility\n",
    "# This could be a fixed value or dynamically based on the distribution of rolling std values\n",
    "# For simplicity, let's define high volatility as being above the 75th percentile of the rolling std\n",
    "high_volatility_threshold = ftse100_summary['Rolling_Std'].quantile(0.75)\n",
    "\n",
    "# Categorize each day as high or low volatility\n",
    "ftse100_summary['Volatility_Type'] = np.where(ftse100_summary['Rolling_Std'] > high_volatility_threshold, 'High', 'Low')\n",
    "\n",
    "# Display the first few rows to verify the categorization\n",
    "print(ftse100_summary[['Log_Returns', 'Rolling_Std', 'Volatility_Type']].head())\n",
    "\n",
    "# Optional: View how many days fall into each category\n",
    "volatility_counts = ftse100_summary['Volatility_Type'].value_counts()\n",
    "print(\"\\nVolatility Type Counts:\")\n",
    "print(volatility_counts)\n"
   ]
  },
  {
   "cell_type": "code",
   "execution_count": 40,
   "id": "533b414c",
   "metadata": {},
   "outputs": [
    {
     "name": "stdout",
     "output_type": "stream",
     "text": [
      "                Rolling_Std                                                    \\\n",
      "                      count      mean       std       min       25%       50%   \n",
      "Volatility_Type                                                                 \n",
      "High                 1131.0  0.017461  0.007286  0.011578  0.012819  0.015162   \n",
      "Low                  3393.0  0.007398  0.001980  0.002536  0.005805  0.007207   \n",
      "\n",
      "                                    Log_Returns                                \\\n",
      "                      75%       max       count      mean       std       min   \n",
      "Volatility_Type                                                                 \n",
      "High             0.019137  0.050682      1131.0  0.000501  0.018586 -0.115117   \n",
      "Low              0.008937  0.011558      3413.0 -0.000064  0.007799 -0.039610   \n",
      "\n",
      "                                                         \n",
      "                      25%       50%       75%       max  \n",
      "Volatility_Type                                          \n",
      "High            -0.008865  0.001502  0.010611  0.093842  \n",
      "Low             -0.004402  0.000322  0.004555  0.034134  \n"
     ]
    }
   ],
   "source": [
    "import pandas as pd\n",
    "import numpy as np\n",
    "\n",
    "# Assuming 'ftse100_summary' is a DataFrame that contains 'Log_Returns'\n",
    "\n",
    "# Calculate the rolling 21-day standard deviation of daily log returns\n",
    "ftse100_summary['Rolling_Std'] = ftse100_summary['Log_Returns'].rolling(window=21).std()\n",
    "\n",
    "# Determine the threshold for high volatility\n",
    "high_volatility_threshold = ftse100_summary['Rolling_Std'].quantile(0.75)\n",
    "\n",
    "# Categorize each day as high or low volatility\n",
    "ftse100_summary['Volatility_Type'] = np.where(ftse100_summary['Rolling_Std'] > high_volatility_threshold, 'High', 'Low')\n",
    "\n",
    "# Generate summary statistics for both the rolling standard deviation and log returns segmented by volatility type\n",
    "# Change here: Use list ['Rolling_Std', 'Log_Returns'] instead of tuple\n",
    "summary_statistics = ftse100_summary.groupby('Volatility_Type')[['Rolling_Std', 'Log_Returns']].describe()\n",
    "\n",
    "# Print the summary statistics\n",
    "print(summary_statistics)\n"
   ]
  },
  {
   "cell_type": "markdown",
   "id": "1def888e",
   "metadata": {},
   "source": [
    "## High Volatility Periods and Low Volatility Periods"
   ]
  },
  {
   "cell_type": "code",
   "execution_count": 41,
   "id": "9c84c843",
   "metadata": {},
   "outputs": [
    {
     "name": "stdout",
     "output_type": "stream",
     "text": [
      "Regression Results for High Volatility Periods:\n",
      "                            OLS Regression Results                            \n",
      "==============================================================================\n",
      "Dep. Variable:                   CSSD   R-squared:                       0.201\n",
      "Model:                            OLS   Adj. R-squared:                  0.199\n",
      "Method:                 Least Squares   F-statistic:                     141.7\n",
      "Date:                Mon, 09 Sep 2024   Prob (F-statistic):           1.27e-55\n",
      "Time:                        17:02:44   Log-Likelihood:                 3544.0\n",
      "No. Observations:                1131   AIC:                            -7082.\n",
      "Df Residuals:                    1128   BIC:                            -7067.\n",
      "Df Model:                           2                                         \n",
      "Covariance Type:            nonrobust                                         \n",
      "==============================================================================\n",
      "                 coef    std err          t      P>|t|      [0.025      0.975]\n",
      "------------------------------------------------------------------------------\n",
      "const          0.0168      0.000     37.032      0.000       0.016       0.018\n",
      "RMp            0.4248      0.031     13.719      0.000       0.364       0.486\n",
      "RMn           -0.3949      0.028    -13.921      0.000      -0.451      -0.339\n",
      "==============================================================================\n",
      "Omnibus:                      855.776   Durbin-Watson:                   1.025\n",
      "Prob(Omnibus):                  0.000   Jarque-Bera (JB):            24806.805\n",
      "Skew:                           3.185   Prob(JB):                         0.00\n",
      "Kurtosis:                      25.042   Cond. No.                         110.\n",
      "==============================================================================\n",
      "\n",
      "Notes:\n",
      "[1] Standard Errors assume that the covariance matrix of the errors is correctly specified.\n",
      "\n",
      "Regression Results for Low Volatility Periods:\n",
      "                            OLS Regression Results                            \n",
      "==============================================================================\n",
      "Dep. Variable:                   CSSD   R-squared:                       0.016\n",
      "Model:                            OLS   Adj. R-squared:                  0.015\n",
      "Method:                 Least Squares   F-statistic:                     27.64\n",
      "Date:                Mon, 09 Sep 2024   Prob (F-statistic):           1.23e-12\n",
      "Time:                        17:02:44   Log-Likelihood:                 10242.\n",
      "No. Observations:                3414   AIC:                        -2.048e+04\n",
      "Df Residuals:                    3411   BIC:                        -2.046e+04\n",
      "Df Model:                           2                                         \n",
      "Covariance Type:            nonrobust                                         \n",
      "==============================================================================\n",
      "                 coef    std err          t      P>|t|      [0.025      0.975]\n",
      "------------------------------------------------------------------------------\n",
      "const          0.0136      0.000     43.503      0.000       0.013       0.014\n",
      "RMp            0.2306      0.051      4.485      0.000       0.130       0.331\n",
      "RMn           -0.3244      0.045     -7.212      0.000      -0.413      -0.236\n",
      "==============================================================================\n",
      "Omnibus:                     6267.158   Durbin-Watson:                   1.407\n",
      "Prob(Omnibus):                  0.000   Jarque-Bera (JB):         13361484.947\n",
      "Skew:                          13.245   Prob(JB):                         0.00\n",
      "Kurtosis:                     308.332   Cond. No.                         278.\n",
      "==============================================================================\n",
      "\n",
      "Notes:\n",
      "[1] Standard Errors assume that the covariance matrix of the errors is correctly specified.\n"
     ]
    }
   ],
   "source": [
    "import numpy as np\n",
    "import pandas as pd\n",
    "import statsmodels.api as sm\n",
    "\n",
    "# Ensure cssd is a DataFrame with the same index as ftse100_summary for accurate filtering\n",
    "cssd_df = cssd.to_frame(name='CSSD')\n",
    "cssd_df = cssd_df.reindex(ftse100_summary.index, fill_value=np.nan)  # Reindexing and filling missing values\n",
    "\n",
    "# Now segregate the data into high and low volatility datasets\n",
    "high_vol_data = ftse100_summary[ftse100_summary['Volatility_Type'] == 'High']\n",
    "low_vol_data = ftse100_summary[ftse100_summary['Volatility_Type'] == 'Low']\n",
    "\n",
    "# Filter the CSSD values for high and low volatility periods using the same indices\n",
    "cssd_high = cssd_df.loc[high_vol_data.index, 'CSSD']\n",
    "cssd_low = cssd_df.loc[low_vol_data.index, 'CSSD']\n",
    "\n",
    "# Prepare the regression data for high volatility\n",
    "X_high = high_vol_data[['RMp', 'RMn']]\n",
    "y_high = cssd_high\n",
    "X_high = sm.add_constant(X_high)  # Adding a constant for the intercept\n",
    "\n",
    "# Prepare the regression data for low volatility\n",
    "X_low = low_vol_data[['RMp', 'RMn']]\n",
    "y_low = cssd_low\n",
    "X_low = sm.add_constant(X_low)  # Adding a constant for the intercept\n",
    "\n",
    "# Perform OLS regression for high volatility periods\n",
    "model_high = sm.OLS(y_high, X_high, missing='drop').fit()  # Using missing='drop' to handle any NaNs that persist\n",
    "\n",
    "# Perform OLS regression for low volatility periods\n",
    "model_low = sm.OLS(y_low, X_low, missing='drop').fit()  # Using missing='drop' to handle any NaNs that persist\n",
    "\n",
    "# Print the results\n",
    "print(\"Regression Results for High Volatility Periods:\")\n",
    "print(model_high.summary())\n",
    "\n",
    "print(\"\\nRegression Results for Low Volatility Periods:\")\n",
    "print(model_low.summary())\n"
   ]
  },
  {
   "cell_type": "code",
   "execution_count": null,
   "id": "a7acf7a7",
   "metadata": {},
   "outputs": [],
   "source": []
  },
  {
   "cell_type": "code",
   "execution_count": null,
   "id": "f6106a08",
   "metadata": {},
   "outputs": [],
   "source": []
  },
  {
   "cell_type": "code",
   "execution_count": null,
   "id": "4c633d0f",
   "metadata": {},
   "outputs": [],
   "source": []
  }
 ],
 "metadata": {
  "kernelspec": {
   "display_name": "Python 3 (ipykernel)",
   "language": "python",
   "name": "python3"
  },
  "language_info": {
   "codemirror_mode": {
    "name": "ipython",
    "version": 3
   },
   "file_extension": ".py",
   "mimetype": "text/x-python",
   "name": "python",
   "nbconvert_exporter": "python",
   "pygments_lexer": "ipython3",
   "version": "3.10.6"
  }
 },
 "nbformat": 4,
 "nbformat_minor": 5
}
